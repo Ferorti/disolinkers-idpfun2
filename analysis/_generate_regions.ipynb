{
 "cells": [
  {
   "cell_type": "code",
   "execution_count": 1,
   "id": "cb74ecde-6dc1-4c54-b263-f168e9962d9c",
   "metadata": {},
   "outputs": [],
   "source": [
    "import pandas as pd"
   ]
  },
  {
   "cell_type": "code",
   "execution_count": 29,
   "id": "7bacf478-5d7a-4bb0-8fe9-1a9a55c0587a",
   "metadata": {},
   "outputs": [],
   "source": [
    "a = pd.read_table('../data/ted_clean/regions_with_dc_features.tsv')"
   ]
  },
  {
   "cell_type": "code",
   "execution_count": 59,
   "id": "3bd5c337-9469-4c23-82d3-7a27f3ee2991",
   "metadata": {},
   "outputs": [
    {
     "data": {
      "text/plain": [
       "False"
      ]
     },
     "execution_count": 59,
     "metadata": {},
     "output_type": "execute_result"
    }
   ],
   "source": [
    "regions.reset_index(drop=True).equals(a[regions.columns].reset_index(drop=True))"
   ]
  },
  {
   "cell_type": "code",
   "execution_count": null,
   "id": "4d741787-74ae-4caa-bd1a-6ebed698ee46",
   "metadata": {},
   "outputs": [],
   "source": []
  }
 ],
 "metadata": {
  "kernelspec": {
   "display_name": "Python 3 (ipykernel)",
   "language": "python",
   "name": "python3"
  },
  "language_info": {
   "codemirror_mode": {
    "name": "ipython",
    "version": 3
   },
   "file_extension": ".py",
   "mimetype": "text/x-python",
   "name": "python",
   "nbconvert_exporter": "python",
   "pygments_lexer": "ipython3",
   "version": "3.12.2"
  }
 },
 "nbformat": 4,
 "nbformat_minor": 5
}
